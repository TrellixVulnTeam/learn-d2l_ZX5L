{
 "cells": [
  {
   "cell_type": "code",
   "execution_count": 14,
   "id": "brutal-volunteer",
   "metadata": {},
   "outputs": [
    {
     "name": "stdout",
     "output_type": "stream",
     "text": [
      "\n",
      "[0. 1. 2. 3. 4. 5. 6. 7. 8.]\n",
      "<NDArray 9 @cpu(0)>\n",
      "(9,)\n",
      "9\n",
      "a \n",
      "[0. 1. 2. 3. 4. 5. 6. 7. 8.]\n",
      "<NDArray 9 @cpu(0)>\n",
      "\n",
      "[[0. 1. 2.]\n",
      " [3. 4. 5.]\n",
      " [6. 7. 8.]]\n",
      "<NDArray 3x3 @cpu(0)>\n"
     ]
    }
   ],
   "source": [
    "from mxnet import nd\n",
    "a = nd.arange(9)\n",
    "print(a)\n",
    "print(a.shape)\n",
    "print(a.size)\n",
    "b = a.reshape([3,3])\n",
    "print('a**', a)\n",
    "print(b)"
   ]
  },
  {
   "cell_type": "code",
   "execution_count": null,
   "id": "sunset-house",
   "metadata": {},
   "outputs": [],
   "source": []
  }
 ],
 "metadata": {
  "kernelspec": {
   "display_name": "Python 3",
   "language": "python",
   "name": "python3"
  },
  "language_info": {
   "codemirror_mode": {
    "name": "ipython",
    "version": 3
   },
   "file_extension": ".py",
   "mimetype": "text/x-python",
   "name": "python",
   "nbconvert_exporter": "python",
   "pygments_lexer": "ipython3",
   "version": "3.6.13"
  }
 },
 "nbformat": 4,
 "nbformat_minor": 5
}
