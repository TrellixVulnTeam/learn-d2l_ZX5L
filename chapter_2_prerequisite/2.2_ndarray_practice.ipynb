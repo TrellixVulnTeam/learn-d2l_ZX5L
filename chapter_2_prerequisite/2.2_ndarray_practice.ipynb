{
 "cells": [
  {
   "cell_type": "code",
   "execution_count": 31,
   "id": "mechanical-hydrogen",
   "metadata": {},
   "outputs": [
    {
     "name": "stdout",
     "output_type": "stream",
     "text": [
      "\n",
      "[0. 1. 2. 3. 4. 5. 6. 7. 8.]\n",
      "<NDArray 9 @cpu(0)>\n",
      "(9,)\n",
      "9\n",
      "a is \n",
      "[0. 1. 2. 3. 4. 5. 6. 7. 8.]\n",
      "<NDArray 9 @cpu(0)>\n",
      "b is \n",
      "[[0. 1. 2.]\n",
      " [3. 4. 5.]\n",
      " [6. 7. 8.]]\n",
      "<NDArray 3x3 @cpu(0)>\n"
     ]
    }
   ],
   "source": [
    "from mxnet import nd\n",
    "a = nd.arange(9)\n",
    "print(a)\n",
    "print(a.shape)\n",
    "print(a.size)\n",
    "b = a.reshape([3, 3])\n",
    "print('a is', a)\n",
    "print('b is', b)"
   ]
  },
  {
   "cell_type": "code",
   "execution_count": 25,
   "id": "cathedral-buddy",
   "metadata": {},
   "outputs": [
    {
     "data": {
      "text/plain": [
       "\n",
       "[[0. 0. 0. 0.]\n",
       " [0. 0. 0. 0.]\n",
       " [0. 0. 0. 0.]\n",
       " [0. 0. 0. 0.]]\n",
       "<NDArray 4x4 @cpu(0)>"
      ]
     },
     "execution_count": 25,
     "metadata": {},
     "output_type": "execute_result"
    }
   ],
   "source": [
    "c = nd.zeros((4,4))"
   ]
  },
  {
   "cell_type": "code",
   "execution_count": 26,
   "id": "psychological-prerequisite",
   "metadata": {},
   "outputs": [
    {
     "data": {
      "text/plain": [
       "\n",
       "[[1. 1. 1. 1.]\n",
       " [1. 1. 1. 1.]\n",
       " [1. 1. 1. 1.]\n",
       " [1. 1. 1. 1.]\n",
       " [1. 1. 1. 1.]]\n",
       "<NDArray 5x4 @cpu(0)>"
      ]
     },
     "execution_count": 26,
     "metadata": {},
     "output_type": "execute_result"
    }
   ],
   "source": [
    "d = nd.ones((5, 4))"
   ]
  },
  {
   "cell_type": "code",
   "execution_count": 73,
   "id": "negative-edwards",
   "metadata": {},
   "outputs": [
    {
     "name": "stdout",
     "output_type": "stream",
     "text": [
      "\n",
      "[[1. 2. 3.]\n",
      " [3. 4. 5.]\n",
      " [7. 2. 8.]\n",
      " [2. 2. 4.]]\n",
      "<NDArray 4x3 @cpu(0)>\n",
      "(4, 3)\n"
     ]
    }
   ],
   "source": [
    "A = nd.array([[1,2,3], [3,4,5],[7,2,8], [2,2,4]])\n",
    "print(A)\n",
    "print(A.shape)"
   ]
  },
  {
   "cell_type": "code",
   "execution_count": 75,
   "id": "desperate-heating",
   "metadata": {},
   "outputs": [
    {
     "name": "stdout",
     "output_type": "stream",
     "text": [
      "(3, 5)\n",
      "\n",
      "[[1. 2. 5. 2. 2.]\n",
      " [3. 3. 3. 3. 1.]\n",
      " [5. 3. 5. 2. 1.]]\n",
      "<NDArray 3x5 @cpu(0)>\n"
     ]
    }
   ],
   "source": [
    "C = nd.array([[1,3,5], [2,3,3], [5,3,5], [2,3,2], [2,1,1]])\n",
    "# print(C.shape)\n",
    "print(C.T.shape)\n",
    "print(C.T)"
   ]
  },
  {
   "cell_type": "code",
   "execution_count": 77,
   "id": "fluid-exploration",
   "metadata": {},
   "outputs": [
    {
     "name": "stdout",
     "output_type": "stream",
     "text": [
      "\n",
      "[[ -7.9218464   9.321043  -31.557741 ]\n",
      " [ 21.935299   -5.385921   -8.611334 ]\n",
      " [-18.815191   -7.2057076  -3.5601573]\n",
      " [ -1.5963985  17.974476    1.9594946]]\n",
      "<NDArray 4x3 @cpu(0)>\n",
      "(4, 3)\n"
     ]
    }
   ],
   "source": [
    "B = nd.random.normal(0, 10, shape=[4, 3])\n",
    "print(B)\n",
    "print(B.shape)"
   ]
  },
  {
   "cell_type": "code",
   "execution_count": 47,
   "id": "smooth-auction",
   "metadata": {},
   "outputs": [
    {
     "data": {
      "text/plain": [
       "\n",
       "[[2.7182817e+00 7.3890562e+00 2.0085537e+01]\n",
       " [2.0085537e+01 5.4598148e+01 1.4841316e+02]\n",
       " [1.0966332e+03 7.3890562e+00 2.9809580e+03]\n",
       " [7.3890562e+00 7.3890562e+00 5.4598148e+01]]\n",
       "<NDArray 4x3 @cpu(0)>"
      ]
     },
     "execution_count": 47,
     "metadata": {},
     "output_type": "execute_result"
    }
   ],
   "source": [
    "A.exp()"
   ]
  },
  {
   "cell_type": "markdown",
   "id": "respiratory-mechanics",
   "metadata": {},
   "source": [
    "### 注意\n",
    "点积运算第一个矩阵的列数（第1维）必须和第二个矩阵的行数(第 0 维度) 相同"
   ]
  },
  {
   "cell_type": "code",
   "execution_count": 71,
   "id": "fitting-tradition",
   "metadata": {},
   "outputs": [
    {
     "name": "stdout",
     "output_type": "stream",
     "text": [
      "\n",
      "[[22. 17. 26. 14.  7.]\n",
      " [40. 33. 52. 28. 15.]\n",
      " [53. 44. 81. 36. 24.]\n",
      " [28. 22. 36. 18. 10.]]\n",
      "<NDArray 4x5 @cpu(0)>\n",
      "(4, 5)\n"
     ]
    }
   ],
   "source": [
    "D = nd.dot(A, C.T)\n",
    "print(D)\n",
    "print(D.shape)"
   ]
  },
  {
   "cell_type": "code",
   "execution_count": 79,
   "id": "korean-taste",
   "metadata": {},
   "outputs": [
    {
     "data": {
      "text/plain": [
       "\n",
       "[[  1.          2.          3.         -7.9218464   9.321043  -31.557741 ]\n",
       " [  3.          4.          5.         21.935299   -5.385921   -8.611334 ]\n",
       " [  7.          2.          8.        -18.815191   -7.2057076  -3.5601573]\n",
       " [  2.          2.          4.         -1.5963985  17.974476    1.9594946]]\n",
       "<NDArray 4x6 @cpu(0)>"
      ]
     },
     "execution_count": 79,
     "metadata": {},
     "output_type": "execute_result"
    }
   ],
   "source": [
    "nd.concat(A, B, dim=0)\n",
    "nd.concat(A, B, dim=1)"
   ]
  },
  {
   "cell_type": "code",
   "execution_count": 80,
   "id": "numerous-tomato",
   "metadata": {},
   "outputs": [
    {
     "data": {
      "text/plain": [
       "\n",
       "[[0. 0. 0.]\n",
       " [0. 0. 0.]\n",
       " [0. 0. 0.]\n",
       " [0. 0. 0.]]\n",
       "<NDArray 4x3 @cpu(0)>"
      ]
     },
     "execution_count": 80,
     "metadata": {},
     "output_type": "execute_result"
    }
   ],
   "source": [
    "A == B"
   ]
  },
  {
   "cell_type": "code",
   "execution_count": 90,
   "id": "understood-forth",
   "metadata": {},
   "outputs": [
    {
     "data": {
      "text/plain": [
       "\n",
       "[1.7320508]\n",
       "<NDArray 1 @cpu(0)>"
      ]
     },
     "execution_count": 90,
     "metadata": {},
     "output_type": "execute_result"
    }
   ],
   "source": [
    "nd.array([[1,0],[0,1], [1, 0]]).norm()"
   ]
  },
  {
   "cell_type": "code",
   "execution_count": 84,
   "id": "circular-kennedy",
   "metadata": {},
   "outputs": [
    {
     "data": {
      "text/plain": [
       "\n",
       "[14.3178215]\n",
       "<NDArray 1 @cpu(0)>"
      ]
     },
     "execution_count": 84,
     "metadata": {},
     "output_type": "execute_result"
    }
   ],
   "source": [
    "A.norm()"
   ]
  },
  {
   "cell_type": "code",
   "execution_count": 92,
   "id": "representative-style",
   "metadata": {},
   "outputs": [
    {
     "name": "stdout",
     "output_type": "stream",
     "text": [
      "\n",
      "[[1. 2. 3.]\n",
      " [3. 4. 5.]\n",
      " [7. 2. 8.]\n",
      " [2. 2. 4.]]\n",
      "<NDArray 4x3 @cpu(0)>\n"
     ]
    },
    {
     "data": {
      "text/plain": [
       "\n",
       "[[1. 2. 3.]]\n",
       "<NDArray 1x3 @cpu(0)>"
      ]
     },
     "execution_count": 92,
     "metadata": {},
     "output_type": "execute_result"
    }
   ],
   "source": [
    "print(A)\n",
    "A[0:1]"
   ]
  },
  {
   "cell_type": "code",
   "execution_count": 94,
   "id": "voluntary-denver",
   "metadata": {},
   "outputs": [
    {
     "data": {
      "text/plain": [
       "\n",
       "[[ 1.  2.  3.]\n",
       " [12. 12. 12.]\n",
       " [ 7.  2.  8.]\n",
       " [ 2.  2.  4.]]\n",
       "<NDArray 4x3 @cpu(0)>"
      ]
     },
     "execution_count": 94,
     "metadata": {},
     "output_type": "execute_result"
    }
   ],
   "source": [
    "A[1: 2, :] = 12\n",
    "A"
   ]
  }
 ],
 "metadata": {
  "kernelspec": {
   "display_name": "Python 3",
   "language": "python",
   "name": "python3"
  },
  "language_info": {
   "codemirror_mode": {
    "name": "ipython",
    "version": 3
   },
   "file_extension": ".py",
   "mimetype": "text/x-python",
   "name": "python",
   "nbconvert_exporter": "python",
   "pygments_lexer": "ipython3",
   "version": "3.6.13"
  }
 },
 "nbformat": 4,
 "nbformat_minor": 5
}
